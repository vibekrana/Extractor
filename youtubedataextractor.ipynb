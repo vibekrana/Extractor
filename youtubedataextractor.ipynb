{
 "cells": [
  {
   "cell_type": "code",
   "execution_count": 1,
   "metadata": {},
   "outputs": [],
   "source": [
    "from selenium import webdriver\n",
    "from selenium.webdriver.common.by import By"
   ]
  },
  {
   "cell_type": "code",
   "execution_count": 2,
   "metadata": {},
   "outputs": [],
   "source": [
    "dr = webdriver.Chrome()"
   ]
  },
  {
   "cell_type": "code",
   "execution_count": 3,
   "metadata": {},
   "outputs": [],
   "source": [
    "dr.get(\"https://youtube.com\")"
   ]
  },
  {
   "cell_type": "code",
   "execution_count": 4,
   "metadata": {},
   "outputs": [],
   "source": [
    "# for finding the element in our website ue find_element function\n",
    "search = dr.find_element(By.XPATH, \"//input[@role='combobox']\")\n",
    "search.send_keys(\"mrbeast\")"
   ]
  },
  {
   "cell_type": "code",
   "execution_count": 5,
   "metadata": {},
   "outputs": [],
   "source": [
    "button = dr.find_element(By.XPATH, \"//button[@title='Search']//yt-icon//div\")\n",
    "button.click()"
   ]
  },
  {
   "cell_type": "code",
   "execution_count": 7,
   "metadata": {},
   "outputs": [],
   "source": [
    "channelbutton = dr.find_element(By.XPATH, \"//div[@id='avatar']\")\n",
    "channelbutton.click()"
   ]
  },
  {
   "cell_type": "code",
   "execution_count": 9,
   "metadata": {},
   "outputs": [],
   "source": [
    "data = dr.find_element(By.XPATH, \"//body[1]/ytd-app[1]/div[1]/ytd-page-manager[1]/ytd-browse[2]/ytd-two-column-browse-results-renderer[1]/div[1]/ytd-section-list-renderer[1]/div[2]/ytd-item-section-renderer[2]/div[3]/ytd-shelf-renderer[1]/div[1]\")"
   ]
  },
  {
   "cell_type": "code",
   "execution_count": 10,
   "metadata": {},
   "outputs": [
    {
     "name": "stdout",
     "output_type": "stream",
     "text": [
      "New Uploads\n",
      "Play all\n",
      "Every Minute One Person Is Eliminated\n",
      "MrBeast\n",
      "58M views\n",
      "4 days ago\n",
      "CC\n",
      "I Helped 2,000 People Walk Again\n",
      "MrBeast\n",
      "77M views\n",
      "2 weeks ago\n",
      "CC\n",
      "2,000 People Fight For $5,000,000\n",
      "MrBeast\n",
      "154M views\n",
      "1 month ago\n",
      "CC\n",
      "Beat Ronaldo, Win $1,000,000\n",
      "MrBeast\n",
      "206M views\n",
      "1 month ago\n",
      "CC\n",
      "$1 vs $500,000 Experiences!\n",
      "MrBeast\n",
      "183M views\n",
      "2 months ago\n",
      "CC\n",
      "7 Days Exploring An Underground City\n",
      "MrBeast\n",
      "124M views\n"
     ]
    }
   ],
   "source": [
    "print(data.text)"
   ]
  },
  {
   "cell_type": "code",
   "execution_count": 44,
   "metadata": {},
   "outputs": [],
   "source": [
    "videodata = dr.find_element(By.XPATH, \"//ytd-two-column-browse-results-renderer[@class='style-scope ytd-browse grid grid-4-columns']//div[@id='contents']\")"
   ]
  },
  {
   "cell_type": "code",
   "execution_count": 45,
   "metadata": {},
   "outputs": [
    {
     "name": "stdout",
     "output_type": "stream",
     "text": [
      "Every Minute One Person Is Eliminated\n",
      "0:00 / 34:45\n",
      "Every Minute One Person Is Eliminated\n",
      "58,677,861 views\n",
      "4 days ago\n",
      "Watch Beast Games now on Prime Video: https://unfur.ly/BeastGames\n",
      "\n",
      "New Merch - https://mrbeast.store\n",
      "\n",
      "Check out Viewstats! - https://www.viewstats.com/\n",
      "\n",
      "SUBSCRIBE OR I TAKE YOUR DOG\n",
      "╔═╦╗╔╦╗╔═╦═╦╦╦╦╗╔═╗\n",
      "║╚╣║║║╚╣╚╣╔╣╔╣║╚╣═╣ \n",
      "╠╗║╚╝║║╠╗║╚╣║║║║║═╣\n",
      "╚═╩══╩═╩═╩═╩╝╚╩═╩═╝\n",
      "\n",
      "For any questions or inquiries regarding this video, please reach out to chucky@mrbeastbusiness.com\n",
      "\n",
      "Music Provided by \n",
      "READ MORE\n",
      "New Uploads\n",
      "Play all\n",
      "34:46\n",
      "Every Minute One Person Is Eliminated\n",
      "MrBeast\n",
      "58M views\n",
      "4 days ago\n",
      "CC\n",
      "15:31\n",
      "I Helped 2,000 People Walk Again\n",
      "MrBeast\n",
      "77M views\n",
      "2 weeks ago\n",
      "CC\n",
      "24:45\n",
      "2,000 People Fight For $5,000,000\n",
      "MrBeast\n",
      "154M views\n",
      "1 month ago\n",
      "CC\n",
      "22:45\n",
      "Beat Ronaldo, Win $1,000,000\n",
      "MrBeast\n",
      "206M views\n",
      "1 month ago\n",
      "CC\n",
      "Popular videos\n",
      "25:42\n",
      "$456,000 Squid Game In Real Life!\n",
      "732M views\n",
      "3 years ago\n",
      "17:44\n",
      "Last To Leave Circle Wins $500,000\n",
      "492M views\n",
      "3 years ago\n",
      "CC\n",
      "12:20\n",
      "$1 vs $500,000 Plane Ticket!\n",
      "452M views\n",
      "1 year ago\n",
      "CC\n",
      "14:47\n",
      "$1 vs $1,000,000,000 Yacht!\n",
      "426M views\n",
      "1 year ago\n",
      "CC\n",
      "Sub To All Channels For Cookie\n",
      "Beast Philanthropy\n",
      "27.3M subscribers\n",
      "Subscribe\n",
      "MrBeast Gaming\n",
      "46.5M subscribers\n",
      "Subscribe\n",
      "Beast Reacts\n",
      "35.3M subscribers\n",
      "Subscribe\n",
      "MrBeast 2\n",
      "48.6M subscribers\n",
      "Subscribe\n"
     ]
    }
   ],
   "source": [
    "print(videodata.text)"
   ]
  },
  {
   "cell_type": "code",
   "execution_count": null,
   "metadata": {},
   "outputs": [],
   "source": []
  }
 ],
 "metadata": {
  "kernelspec": {
   "display_name": "base",
   "language": "python",
   "name": "python3"
  },
  "language_info": {
   "codemirror_mode": {
    "name": "ipython",
    "version": 3
   },
   "file_extension": ".py",
   "mimetype": "text/x-python",
   "name": "python",
   "nbconvert_exporter": "python",
   "pygments_lexer": "ipython3",
   "version": "3.12.4"
  }
 },
 "nbformat": 4,
 "nbformat_minor": 2
}
